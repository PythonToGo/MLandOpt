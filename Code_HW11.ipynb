{
 "cells": [
  {
   "cell_type": "markdown",
   "id": "21c45c1d",
   "metadata": {},
   "source": [
    "#### Copyright © 2023 Taeyoung Kim and Mingi Kang. All rights reserved. ####"
   ]
  },
  {
   "cell_type": "markdown",
   "id": "0fb74e54",
   "metadata": {},
   "source": [
    "This is the solution for the homework assignment of the Machine Learning and Optimization lecture for WS2023. "
   ]
  },
  {
   "cell_type": "code",
   "execution_count": 1,
   "id": "20357174",
   "metadata": {},
   "outputs": [],
   "source": [
    "import torch\n",
    "import torch.nn as nn\n",
    "import torch.nn.functional as F\n",
    "\n",
    "import torchvision\n",
    "import torchvision.transforms as transforms"
   ]
  },
  {
   "cell_type": "markdown",
   "id": "f89ba007",
   "metadata": {},
   "source": [
    "#### Part 1"
   ]
  },
  {
   "cell_type": "code",
   "execution_count": 2,
   "id": "77b20d80",
   "metadata": {},
   "outputs": [],
   "source": [
    "class SimpleCNN(nn.Module):\n",
    "    def __init__(self, num_classes=3):\n",
    "        super(SimpleCNN, self).__init__()\n",
    "        self.conv1 = nn.Conv2d(3, 6, 5)  # First convolutional layer\n",
    "        self.pool = nn.MaxPool2d(2, 2)   # Max pooling\n",
    "        self.conv2 = nn.Conv2d(6, 16, 5) # Second convolutional layer\n",
    "       \n",
    "    \n",
    "        self.fc1_size = 16 * 5 * 5       # based on the tensor size\n",
    "        \n",
    "        self.fc1 = nn.Linear(self.fc1_size, 120)  # First fully connected layer\n",
    "        self.fc2 = nn.Linear(120, 84)    # Second fully connected layer\n",
    "        self.fc3 = nn.Linear(84, num_classes) # Final fully connected layer\n",
    "\n",
    "    def forward(self, x):\n",
    "        x = self.pool(F.relu(self.conv1(x)))\n",
    "        x = self.pool(F.relu(self.conv2(x)))\n",
    "        x = x.view(-1, self.fc1_size)    # flatten\n",
    "        x = F.relu(self.fc1(x))\n",
    "        x = F.relu(self.fc2(x))\n",
    "        x = self.fc3(x)\n",
    "        return x"
   ]
  },
  {
   "cell_type": "markdown",
   "id": "69e2f7ff",
   "metadata": {},
   "source": [
    "#### Part 2 CNN using shuffle data"
   ]
  },
  {
   "cell_type": "code",
   "execution_count": 3,
   "id": "8b2c6a41",
   "metadata": {},
   "outputs": [],
   "source": [
    "def shuffle_pixels(images):\n",
    "    batch_size, channels, height, width = images.shape\n",
    "    total_pixels = channels * height * width\n",
    "\n",
    "    # Generate a random permutation\n",
    "    permutation = torch.randperm(total_pixels)\n",
    "\n",
    "    # reshaep, apply permutation and reshape again\n",
    "    shuffled = images.view(batch_size, total_pixels)[:, permutation]\n",
    "    shuffled = shuffled.view(batch_size, channels, height, width)\n",
    "    return shuffled"
   ]
  },
  {
   "cell_type": "markdown",
   "id": "d5940381",
   "metadata": {},
   "source": [
    "### (Part 2) Expected Outcome: \n",
    "The performance should significantly decrease compared to the original dataset because shuffling of pixels disrupts the spatial relationships that CNNs leverage to detect patterns and feature."
   ]
  },
  {
   "cell_type": "markdown",
   "id": "b9900171",
   "metadata": {},
   "source": [
    "### (Part 3) Expected Outcome: \n",
    "The performance of the F- CNN willnot degrade as much as the CNN's on the shuffled dataset. This is because FCNNs do not rely on the spatial arrangement of pixels, treating the input as a flat vector."
   ]
  },
  {
   "cell_type": "markdown",
   "id": "5cf68958",
   "metadata": {},
   "source": [
    "## Learning Example"
   ]
  },
  {
   "cell_type": "code",
   "execution_count": 4,
   "id": "41d33afe",
   "metadata": {},
   "outputs": [
    {
     "name": "stdout",
     "output_type": "stream",
     "text": [
      "Files already downloaded and verified\n",
      "Files already downloaded and verified\n"
     ]
    }
   ],
   "source": [
    "# Load CIFAR-10 Data\n",
    "transform = transforms.Compose([transforms.ToTensor()])\n",
    "trainset = torchvision.datasets.CIFAR10(root='./data', train=True, download=True, transform=transform)\n",
    "trainloader = torch.utils.data.DataLoader(trainset, batch_size=4, shuffle=True, num_workers=2)\n",
    "\n",
    "testset = torchvision.datasets.CIFAR10(root='./data', train=False, download=True, transform=transform)\n",
    "testloader = torch.utils.data.DataLoader(testset, batch_size=4, shuffle=False, num_workers=2)"
   ]
  },
  {
   "cell_type": "code",
   "execution_count": 5,
   "id": "56aebaca",
   "metadata": {},
   "outputs": [],
   "source": [
    "# Initialize\n",
    "net = SimpleCNN(num_classes=3)"
   ]
  },
  {
   "cell_type": "code",
   "execution_count": 6,
   "id": "671f273d",
   "metadata": {},
   "outputs": [],
   "source": [
    "# Dummy Training Loop\n",
    "### replace with actual training code\n",
    "\n",
    "for i, data in enumerate(trainloader, 0):\n",
    "    inputs, labels = data\n",
    "    inputs = shuffle_pixels(inputs)  # Shuffle pixels for Part 2 and Part 3\n",
    "    \n",
    "    \n",
    "    if i == 1: # break early\n",
    "        break\n"
   ]
  },
  {
   "cell_type": "code",
   "execution_count": 7,
   "id": "d4720047",
   "metadata": {},
   "outputs": [],
   "source": [
    "def test_model(model, testloader, device):\n",
    "    model.eval() \n",
    "    correct = 0\n",
    "    total = 0\n",
    "    \n",
    "    \n",
    "    with torch.no_grad(): \n",
    "        for data in testloader:\n",
    "            images, labels = data\n",
    "            images = images.to(device)\n",
    "            labels = labels.to(device)\n",
    "            outputs = model(images)\n",
    "            _, predicted = torch.max(outputs.data, 1)\n",
    "            total += labels.size(0)\n",
    "            correct += (predicted == labels).sum().item()\n",
    "\n",
    "    accuracy = 100 * correct / total\n",
    "    print(f'Accuracy of the network on the test images: {accuracy}%')\n",
    "    return accuracy"
   ]
  },
  {
   "cell_type": "code",
   "execution_count": 8,
   "id": "70a32382",
   "metadata": {
    "scrolled": true
   },
   "outputs": [],
   "source": [
    "#pip install --upgrade torch torchvision\n"
   ]
  },
  {
   "cell_type": "code",
   "execution_count": 9,
   "id": "6b036c32",
   "metadata": {},
   "outputs": [
    {
     "data": {
      "text/plain": [
       "SimpleCNN(\n",
       "  (conv1): Conv2d(3, 6, kernel_size=(5, 5), stride=(1, 1))\n",
       "  (pool): MaxPool2d(kernel_size=2, stride=2, padding=0, dilation=1, ceil_mode=False)\n",
       "  (conv2): Conv2d(6, 16, kernel_size=(5, 5), stride=(1, 1))\n",
       "  (fc1): Linear(in_features=400, out_features=120, bias=True)\n",
       "  (fc2): Linear(in_features=120, out_features=84, bias=True)\n",
       "  (fc3): Linear(in_features=84, out_features=3, bias=True)\n",
       ")"
      ]
     },
     "execution_count": 9,
     "metadata": {},
     "output_type": "execute_result"
    }
   ],
   "source": [
    "# define the device\n",
    "device = torch.device(\"cpu\")\n",
    "net.to(device)"
   ]
  },
  {
   "cell_type": "code",
   "execution_count": 10,
   "id": "49803965",
   "metadata": {},
   "outputs": [
    {
     "data": {
      "image/png": "[encoded data removed]",
      "text/plain": [
       "<Figure size 640x480 with 1 Axes>"
      ]
     },
     "metadata": {},
     "output_type": "display_data"
    }
   ],
   "source": [
    "import matplotlib.pyplot as plt\n",
    "import numpy as np\n",
    "\n",
    "# Function for img\n",
    "def imshow(img):\n",
    "    img = img / 2 + 0.5     # not normalised\n",
    "    npimg = img.numpy()\n",
    "    plt.imshow(np.transpose(npimg, (1, 2, 0)))\n",
    "    plt.show()\n",
    "\n",
    "classes = ('plane', 'car', 'bird', 'cat', 'deer', 'dog', 'frog', 'horse', 'ship', 'truck')\n",
    "    \n",
    "\n",
    "# Get random test img\n",
    "dataiter = iter(testloader)\n",
    "images, labels =  next(dataiter)\n",
    "\n",
    "# Show img\n",
    "imshow(torchvision.utils.make_grid(images))\n",
    "\n"
   ]
  },
  {
   "cell_type": "code",
   "execution_count": 11,
   "id": "b94c6c96",
   "metadata": {},
   "outputs": [],
   "source": [
    "# For adjusting visualizing\n",
    "outputs = net(images.to(device))\n",
    "_, predicted = torch.max(outputs, 1)\n",
    "predicted = predicted.to(\"cpu\")  # Move predictions back to CPU\n"
   ]
  },
  {
   "cell_type": "code",
   "execution_count": 12,
   "id": "6aea0c4f",
   "metadata": {
    "scrolled": false
   },
   "outputs": [],
   "source": [
    "# # img, cpu, device error solving \n",
    "\n",
    "# images = images.to(device)\n",
    "# outputs = net(images)\n",
    "# _, predicted = torch.max(outputs, 1)\n",
    "# predicted = predicted.to(\"cpu\")"
   ]
  },
  {
   "cell_type": "code",
   "execution_count": 13,
   "id": "2bdec90a",
   "metadata": {},
   "outputs": [
    {
     "name": "stdout",
     "output_type": "stream",
     "text": [
      "GroundTruth:  cat ship ship plane\n",
      "Predicted:  plane plane plane plane\n"
     ]
    }
   ],
   "source": [
    "\n",
    "\n",
    "#### RESULTS #####\n",
    "\n",
    "# Print labels\n",
    "print('GroundTruth: ', ' '.join(f'{classes[labels[j]]}' for j in range(4)))\n",
    "\n",
    "# Predict labels\n",
    "outputs = net(images.to(device))\n",
    "_, predicted = torch.max(outputs, 1)\n",
    "\n",
    "print('Predicted: ', ' '.join(f'{classes[predicted[j]]}' for j in range(4)))\n"
   ]
  },
  {
   "cell_type": "code",
   "execution_count": null,
   "id": "c300d4d4",
   "metadata": {},
   "outputs": [],
   "source": []
  },
  {
   "cell_type": "markdown",
   "id": "79d571e4",
   "metadata": {},
   "source": [
    "### Updates the model"
   ]
  },
  {
   "cell_type": "code",
   "execution_count": 14,
   "id": "4778f562",
   "metadata": {},
   "outputs": [],
   "source": [
    "# Define the classes that we interested in\n",
    "selected_classes = ['cat', 'dog', 'ship']\n",
    "\n",
    "# Filtering\n",
    "trainset.targets = [selected_classes.index(trainset.classes[target]) if trainset.classes[target] in selected_classes else -1 for target in trainset.targets]\n",
    "trainset.data = trainset.data[np.array(trainset.targets) != -1]\n",
    "trainset.targets = [target for target in trainset.targets if target != -1]\n",
    "\n",
    "testset.targets = [selected_classes.index(testset.classes[target]) if testset.classes[target] in selected_classes else -1 for target in testset.targets]\n",
    "testset.data = testset.data[np.array(testset.targets) != -1]\n",
    "testset.targets = [target for target in testset.targets if target != -1]"
   ]
  },
  {
   "cell_type": "code",
   "execution_count": 15,
   "id": "ff6b6099",
   "metadata": {},
   "outputs": [
    {
     "name": "stdout",
     "output_type": "stream",
     "text": [
      "[1, 2000] loss: 1.015\n",
      "[2, 2000] loss: 0.702\n",
      "[3, 2000] loss: 0.624\n",
      "[4, 2000] loss: 0.587\n",
      "[5, 2000] loss: 0.559\n",
      "[6, 2000] loss: 0.521\n",
      "[7, 2000] loss: 0.511\n",
      "[8, 2000] loss: 0.483\n",
      "[9, 2000] loss: 0.468\n",
      "[10, 2000] loss: 0.428\n",
      "Finished Training\n"
     ]
    }
   ],
   "source": [
    "import torch.optim as optim\n",
    "\n",
    "# Define a loss function and optimizer\n",
    "criterion = nn.CrossEntropyLoss()\n",
    "optimizer = optim.SGD(net.parameters(), lr=0.001, momentum=0.9)\n",
    "\n",
    "# Epochs number\n",
    "num_epochs = 10 # for example\n",
    "\n",
    "# Training loop\n",
    "for epoch in range(num_epochs):\n",
    "    running_loss = 0.0\n",
    "    for i, data in enumerate(trainloader, 0):\n",
    "        # get inputs\n",
    "        inputs, labels = data\n",
    "        inputs, labels = inputs.to(device), labels.to(device)\n",
    "\n",
    "        # zero the param. gradients\n",
    "        optimizer.zero_grad()\n",
    "\n",
    "        # forwarding pass\n",
    "        outputs = net(inputs)\n",
    "        loss = criterion(outputs, labels)\n",
    "\n",
    "        # backwarding pass\n",
    "        loss.backward()\n",
    "        \n",
    "        # optimize\n",
    "        optimizer.step()\n",
    "\n",
    "        # Print statistics\n",
    "        running_loss += loss.item()\n",
    "        if i % 2000 == 1999:  # Print every 2000 mini batches\n",
    "            print(f'[{epoch + 1}, {i + 1}] loss: {running_loss / 2000:.3f}')\n",
    "            running_loss = 0.0\n",
    "\n",
    "print('Finished Training')\n"
   ]
  },
  {
   "cell_type": "code",
   "execution_count": 18,
   "id": "e3d6959c",
   "metadata": {
    "scrolled": true
   },
   "outputs": [
    {
     "data": {
      "image/png": "[encoded data removed]",
      "text/plain": [
       "<Figure size 640x480 with 1 Axes>"
      ]
     },
     "metadata": {},
     "output_type": "display_data"
    },
    {
     "name": "stdout",
     "output_type": "stream",
     "text": [
      "GroundTruth:  plane bird bird plane\n",
      "Predicted:  plane bird bird car\n"
     ]
    }
   ],
   "source": [
    "# Get random test img\n",
    "dataiter = iter(testloader)\n",
    "images, labels = next(dataiter)\n",
    "\n",
    "# Show img\n",
    "imshow(torchvision.utils.make_grid(images))\n",
    "\n",
    "# Print GroundTruth and Predicted label\n",
    "print('GroundTruth: ', ' '.join(f'{classes[labels[j]]}' for j in range(4)))\n",
    "outputs = net(images.to(device))\n",
    "_, predicted = torch.max(outputs, 1)\n",
    "predicted = predicted.to(\"cpu\")\n",
    "print('Predicted: ', ' '.join(f'{classes[predicted[j]]}' for j in range(4)))\n"
   ]
  }
 ],
 "metadata": {
  "kernelspec": {
   "display_name": "Python 3 (ipykernel)",
   "language": "python",
   "name": "python3"
  },
  "language_info": {
   "codemirror_mode": {
    "name": "ipython",
    "version": 3
   },
   "file_extension": ".py",
   "mimetype": "text/x-python",
   "name": "python",
   "nbconvert_exporter": "python",
   "pygments_lexer": "ipython3",
   "version": "3.10.9"
  }
 },
 "nbformat": 4,
 "nbformat_minor": 5
}
