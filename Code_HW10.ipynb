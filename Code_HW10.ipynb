{
 "cells": [
  {
   "cell_type": "markdown",
   "metadata": {},
   "source": [
    "#### Copyright © 2023 Taeyoung Kim and Mingi Kang. All rights reserved. ####"
   ]
  },
  {
   "cell_type": "markdown",
   "metadata": {},
   "source": [
    "This is the solution for the homework assignment of the Machine Learning and Optimization lecture for WS2023. "
   ]
  },
  {
   "cell_type": "code",
   "execution_count": 1,
   "metadata": {},
   "outputs": [],
   "source": [
    "import torchvision\n",
    "import torchvision.transforms as transforms\n",
    "from torch.utils.data import DataLoader, Subset\n",
    "import numpy as np\n",
    "import torch\n",
    "import torch.nn as nn\n",
    "import torch.nn.functional as F\n",
    "import torch.optim as optim\n",
    "import matplotlib.pyplot as plt"
   ]
  },
  {
   "cell_type": "code",
   "execution_count": 2,
   "metadata": {},
   "outputs": [
    {
     "name": "stdout",
     "output_type": "stream",
     "text": [
      "Files already downloaded and verified\n",
      "Files already downloaded and verified\n"
     ]
    }
   ],
   "source": [
    "transform = transforms.Compose(\n",
    "    [transforms.ToTensor(),\n",
    "     transforms.Normalize((0.5, 0.5, 0.5), (0.5, 0.5, 0.5))]\n",
    ")\n",
    "\n",
    "batch_size = 4\n",
    "\n",
    "trainset_full = torchvision.datasets.CIFAR10(root='./data', train=True, download=True, transform=transform)\n",
    "testset_full = torchvision.datasets.CIFAR10(root='./data', train=False, download=True, transform=transform)"
   ]
  },
  {
   "cell_type": "markdown",
   "metadata": {},
   "source": [
    "### part 1"
   ]
  },
  {
   "cell_type": "code",
   "execution_count": 3,
   "metadata": {},
   "outputs": [],
   "source": [
    "# Class labels \n",
    "classes = ('plane', 'car', 'bird', 'cat', 'deer', 'dog', 'frog', 'horse', 'ship', 'truck')\n",
    "\n",
    "# Map selected class names to  indices\n",
    "selected_classes = ['cat', 'dog', 'ship']\n",
    "class_indices = {classes.index(cls): cls for cls in selected_classes}"
   ]
  },
  {
   "cell_type": "code",
   "execution_count": 4,
   "metadata": {},
   "outputs": [],
   "source": [
    "# Function to filter and select for classes\n",
    "def filter_indices(dataset, class_indices, limit_per_class):\n",
    "    selected_indices = {cls: [] for cls in class_indices.values()}\n",
    "    for i in range(len(dataset)):\n",
    "        _, label = dataset[i]\n",
    "        if label in class_indices and len(selected_indices[classes[label]]) < limit_per_class:\n",
    "            selected_indices[classes[label]].append(i)\n",
    "    return [index for cls in selected_indices for index in selected_indices[cls]]"
   ]
  },
  {
   "cell_type": "code",
   "execution_count": 5,
   "metadata": {},
   "outputs": [],
   "source": [
    "# Apply filter\n",
    "train_indices = filter_indices(trainset_full, class_indices, 3000)\n",
    "test_indices = filter_indices(testset_full, class_indices, 1000)"
   ]
  },
  {
   "cell_type": "code",
   "execution_count": 6,
   "metadata": {},
   "outputs": [],
   "source": [
    "# Create for training and test datasets\n",
    "trainset = Subset(trainset_full, train_indices)\n",
    "testset = Subset(testset_full, test_indices)"
   ]
  },
  {
   "cell_type": "code",
   "execution_count": 7,
   "metadata": {},
   "outputs": [],
   "source": [
    "# Initialize dataload\n",
    "trainloader = DataLoader(trainset, batch_size=batch_size, shuffle=True)\n",
    "testloader = DataLoader(testset, batch_size=batch_size, shuffle=False)"
   ]
  },
  {
   "cell_type": "code",
   "execution_count": 8,
   "metadata": {},
   "outputs": [
    {
     "name": "stdout",
     "output_type": "stream",
     "text": [
      "Training set size: 9000\n",
      "Test set size: 3000\n"
     ]
    }
   ],
   "source": [
    "print(f\"Training set size: {len(trainset)}\")\n",
    "print(f\"Test set size: {len(testset)}\")"
   ]
  },
  {
   "cell_type": "markdown",
   "metadata": {},
   "source": [
    "### part 2"
   ]
  },
  {
   "cell_type": "code",
   "execution_count": 9,
   "metadata": {},
   "outputs": [],
   "source": [
    "import torch\n",
    "import torch.nn as nn\n",
    "import torch.nn.functional as F"
   ]
  },
  {
   "cell_type": "code",
   "execution_count": 10,
   "metadata": {},
   "outputs": [],
   "source": [
    "# Define NN Architecture\n",
    "class SimpleNeuralNet(nn.Module):\n",
    "    def __init__(self):\n",
    "        super(SimpleNeuralNet, self).__init__()\n",
    "        # input dimension is 32*32*3 = 3072\n",
    "        self.fc1 = nn.Linear(3072, 512)  # First layer\n",
    "        self.fc2 = nn.Linear(512, 3)     # Output layer with 3 units \n",
    "        \n",
    "    def forward(self, x):\n",
    "        # Flatten the input x keeping the batch dimension\n",
    "        x = x.view(-1, 3072)  # Flatten the images into vectors of size 3072\n",
    "        x = F.relu(self.fc1(x))  # Apply ReLU after first \n",
    "        x = self.fc2(x)  # No activation in output \n",
    "        return x"
   ]
  },
  {
   "cell_type": "code",
   "execution_count": 11,
   "metadata": {},
   "outputs": [],
   "source": [
    "# Create SimpleNeuralNet\n",
    "simple_net = SimpleNeuralNet()"
   ]
  },
  {
   "cell_type": "code",
   "execution_count": 12,
   "metadata": {},
   "outputs": [
    {
     "name": "stdout",
     "output_type": "stream",
     "text": [
      "SimpleNeuralNet(\n",
      "  (fc1): Linear(in_features=3072, out_features=512, bias=True)\n",
      "  (fc2): Linear(in_features=512, out_features=3, bias=True)\n",
      ")\n"
     ]
    }
   ],
   "source": [
    "# Print NN Architecture\n",
    "print(simple_net)"
   ]
  },
  {
   "cell_type": "markdown",
   "metadata": {},
   "source": [
    "### part 3"
   ]
  },
  {
   "cell_type": "code",
   "execution_count": 13,
   "metadata": {},
   "outputs": [],
   "source": [
    "# # Neural Network Def\n",
    "# class SimpleNeuralNet(nn.Module):\n",
    "#     def __init__(self):\n",
    "#         super(SimpleNeuralNet, self).__init__()\n",
    "#         self.fc1 = nn.Linear(3072, 512)\n",
    "#         self.fc2 = nn.Linear(512, 3)\n",
    "\n",
    "#     def forward(self, x):\n",
    "#         x = x.view(-1, 3072)\n",
    "#         x = F.relu(self.fc1(x))\n",
    "#         x = self.fc2(x)\n",
    "#         return x"
   ]
  },
  {
   "cell_type": "code",
   "execution_count": 14,
   "metadata": {},
   "outputs": [
    {
     "name": "stdout",
     "output_type": "stream",
     "text": [
      "Files already downloaded and verified\n",
      "Files already downloaded and verified\n"
     ]
    }
   ],
   "source": [
    "# Loading CIFAR10 Dataset\n",
    "transform = transforms.Compose(\n",
    "    [transforms.ToTensor(),\n",
    "     transforms.Normalize((0.5, 0.5, 0.5), (0.5, 0.5, 0.5))]\n",
    ")\n",
    "\n",
    "batch_size = 4\n",
    "\n",
    "trainset_full = torchvision.datasets.CIFAR10(root='./data', train=True, download=True, transform=transform)\n",
    "testset_full = torchvision.datasets.CIFAR10(root='./data', train=False, download=True, transform=transform)"
   ]
  },
  {
   "cell_type": "code",
   "execution_count": 15,
   "metadata": {},
   "outputs": [],
   "source": [
    "classes = ('plane', 'car', 'bird', 'cat', 'deer', 'dog', 'frog', 'horse', 'ship', 'truck')\n",
    "selected_classes = ['cat', 'dog', 'ship']\n",
    "class_indices = {classes.index(cls): cls for cls in selected_classes}\n"
   ]
  },
  {
   "cell_type": "code",
   "execution_count": 16,
   "metadata": {},
   "outputs": [],
   "source": [
    "def filter_indices_and_adjust_labels(dataset, class_indices, limit_per_class):\n",
    "    selected_indices = []\n",
    "    selected_labels = []\n",
    "    for i in range(len(dataset)):\n",
    "        image, label = dataset[i]\n",
    "        if label in class_indices and len([idx for idx, l in zip(selected_indices, selected_labels) if l == label]) < limit_per_class:\n",
    "            selected_indices.append(i)\n",
    "            # Adjust the label to be within 0, 1, 2\n",
    "            selected_labels.append(list(class_indices).index(label))\n",
    "    return selected_indices, selected_labels"
   ]
  },
  {
   "cell_type": "code",
   "execution_count": 17,
   "metadata": {},
   "outputs": [],
   "source": [
    "# Apply updated function\n",
    "train_indices, train_labels = filter_indices_and_adjust_labels(trainset_full, class_indices, 3000)\n",
    "test_indices, test_labels = filter_indices_and_adjust_labels(testset_full, class_indices, 1000)"
   ]
  },
  {
   "cell_type": "code",
   "execution_count": 18,
   "metadata": {},
   "outputs": [],
   "source": [
    "# customizing datasets with adjusted label\n",
    "class CustomDataset(torch.utils.data.Dataset):\n",
    "    def __init__(self, dataset, indices, labels):\n",
    "        self.dataset = dataset\n",
    "        self.indices = indices\n",
    "        self.labels = labels\n",
    "\n",
    "    def __len__(self):\n",
    "        return len(self.indices)\n",
    "\n",
    "    def __getitem__(self, idx):\n",
    "        image, _ = self.dataset[self.indices[idx]]\n",
    "        label = self.labels[idx]\n",
    "        return image, label"
   ]
  },
  {
   "cell_type": "code",
   "execution_count": 19,
   "metadata": {},
   "outputs": [],
   "source": [
    "# new subsets\n",
    "trainset = CustomDataset(trainset_full, train_indices, train_labels)\n",
    "testset = CustomDataset(testset_full, test_indices, test_labels)\n",
    "\n",
    "# dataloaders\n",
    "trainloader = DataLoader(trainset, batch_size=batch_size, shuffle=True)\n",
    "testloader = DataLoader(testset, batch_size=batch_size, shuffle=False)\n"
   ]
  },
  {
   "cell_type": "code",
   "execution_count": 20,
   "metadata": {},
   "outputs": [],
   "source": [
    "# Initialize NN\n",
    "simple_net = SimpleNeuralNet()"
   ]
  },
  {
   "cell_type": "code",
   "execution_count": 21,
   "metadata": {},
   "outputs": [],
   "source": [
    "# Define  SGD Optimizer and Lossfunction\n",
    "optimizer = optim.SGD(simple_net.parameters(), lr=0.001, momentum=0.9)\n",
    "criterion = nn.CrossEntropyLoss()"
   ]
  },
  {
   "cell_type": "code",
   "execution_count": 22,
   "metadata": {},
   "outputs": [],
   "source": [
    "def train_network(network, train_loader, test_loader, optimizer, criterion, epochs=10):\n",
    "    best_accuracy = 0\n",
    "    best_model = None\n",
    "    train_accuracies = []\n",
    "    test_accuracies = []\n",
    "\n",
    "    for epoch in range(epochs):\n",
    "        network.train()\n",
    "        running_loss = 0.0\n",
    "        for i, data in enumerate(train_loader, 0):\n",
    "            inputs, labels = data\n",
    "            optimizer.zero_grad()\n",
    "            outputs = network(inputs)\n",
    "            loss = criterion(outputs, labels)\n",
    "            loss.backward()\n",
    "            optimizer.step()\n",
    "            running_loss += loss.item()\n",
    "\n",
    "        # Calculate training accuracy\n",
    "        correct = 0\n",
    "        total = 0\n",
    "        with torch.no_grad():\n",
    "            for data in train_loader:\n",
    "                images, labels = data\n",
    "                outputs = network(images)\n",
    "                _, predicted = torch.max(outputs.data, 1)\n",
    "                total += labels.size(0)\n",
    "                correct += (predicted == labels).sum().item()\n",
    "        train_accuracy = 100 * correct / total\n",
    "        train_accuracies.append(train_accuracy)\n",
    "\n",
    "        # Calculate test accuracy\n",
    "        correct = 0\n",
    "        total = 0\n",
    "        with torch.no_grad():\n",
    "            for data in test_loader:\n",
    "                images, labels = data\n",
    "                outputs = network(images)\n",
    "                _, predicted = torch.max(outputs.data, 1)\n",
    "                total += labels.size(0)\n",
    "                correct += (predicted == labels).sum().item()\n",
    "        test_accuracy = 100 * correct / total\n",
    "        test_accuracies.append(test_accuracy)\n",
    "\n",
    "        # Save the best model\n",
    "        if test_accuracy > best_accuracy:\n",
    "            best_accuracy = test_accuracy\n",
    "            best_model = network.state_dict()\n",
    "\n",
    "        print(f'Epoch {epoch + 1}, Loss: {running_loss / len(train_loader)}, Train Accuracy: {train_accuracy}%, Test Accuracy: {test_accuracy}%')\n",
    "\n",
    "    return best_model, train_accuracies, test_accuracies"
   ]
  },
  {
   "cell_type": "code",
   "execution_count": 23,
   "metadata": {
    "scrolled": true
   },
   "outputs": [
    {
     "name": "stdout",
     "output_type": "stream",
     "text": [
      "Epoch 1, Loss: 0.7101030101319155, Train Accuracy: 70.07333333333334%, Test Accuracy: 66.23333333333333%\n",
      "Epoch 2, Loss: 0.6385823744162917, Train Accuracy: 72.46%, Test Accuracy: 69.6%\n",
      "Epoch 3, Loss: 0.6038221256534259, Train Accuracy: 72.84%, Test Accuracy: 68.53333333333333%\n",
      "Epoch 4, Loss: 0.5742990286308962, Train Accuracy: 74.69333333333333%, Test Accuracy: 67.8%\n",
      "Epoch 5, Loss: 0.5482889502820326, Train Accuracy: 77.25333333333333%, Test Accuracy: 69.13333333333334%\n",
      "Epoch 6, Loss: 0.5257379165377778, Train Accuracy: 79.44666666666667%, Test Accuracy: 69.06666666666666%\n",
      "Epoch 7, Loss: 0.5012858099333322, Train Accuracy: 78.97333333333333%, Test Accuracy: 68.9%\n",
      "Epoch 8, Loss: 0.4796107507432811, Train Accuracy: 83.31333333333333%, Test Accuracy: 70.73333333333333%\n",
      "Epoch 9, Loss: 0.44933737107761745, Train Accuracy: 82.54%, Test Accuracy: 68.4%\n",
      "Epoch 10, Loss: 0.4336196424173114, Train Accuracy: 84.56%, Test Accuracy: 69.1%\n"
     ]
    }
   ],
   "source": [
    "best_model, train_accuracies, test_accuracies = train_network(simple_net, trainloader, testloader, optimizer, criterion, epochs=10)"
   ]
  },
  {
   "cell_type": "code",
   "execution_count": 24,
   "metadata": {},
   "outputs": [
    {
     "data": {
      "image/png": "[encoded data removed]",
      "text/plain": [
       "<Figure size 640x480 with 1 Axes>"
      ]
     },
     "metadata": {},
     "output_type": "display_data"
    }
   ],
   "source": [
    "# Plotting the training and test accuracies\n",
    "epochs = range(1, 11)\n",
    "plt.plot(epochs, train_accuracies, 'g', label='Training Accuracy')\n",
    "plt.plot(epochs, test_accuracies, 'b', label='Test Accuracy')\n",
    "plt.title('Training and Test Accuracies')\n",
    "plt.xlabel('Epochs')\n",
    "plt.ylabel('Accuracy')\n",
    "plt.legend()\n",
    "plt.show()\n"
   ]
  },
  {
   "cell_type": "markdown",
   "metadata": {},
   "source": [
    "### part 4"
   ]
  },
  {
   "cell_type": "code",
   "execution_count": 25,
   "metadata": {},
   "outputs": [
    {
     "data": {
      "text/plain": [
       "<All keys matched successfully>"
      ]
     },
     "execution_count": 25,
     "metadata": {},
     "output_type": "execute_result"
    }
   ],
   "source": [
    "# Load the best model\n",
    "simple_net.load_state_dict(best_model)"
   ]
  },
  {
   "cell_type": "code",
   "execution_count": 26,
   "metadata": {},
   "outputs": [],
   "source": [
    "# Function to evaluate the model\n",
    "def evaluate_model(network, test_loader):\n",
    "    class_correct = list(0. for i in range(3))\n",
    "    class_total = list(0. for i in range(3))\n",
    "    class_names = ['cat', 'dog', 'ship']\n",
    "\n",
    "    with torch.no_grad():\n",
    "        network.eval()\n",
    "        total_correct = 0\n",
    "        total_images = 0\n",
    "        for data in test_loader:\n",
    "            images, labels = data\n",
    "            outputs = network(images)\n",
    "            _, predicted = torch.max(outputs, 1)\n",
    "            total_images += labels.size(0)\n",
    "            total_correct += (predicted == labels).sum().item()\n",
    "            \n",
    "    \n",
    "            correct = (predicted == labels).squeeze()\n",
    "            for i in range(len(labels)):\n",
    "                label = labels[i]\n",
    "                class_correct[label] += correct[i].item()\n",
    "                class_total[label] += 1\n",
    "\n",
    "    overall_accuracy = total_correct / total_images * 100\n",
    "    class_accuracies = {class_names[i]: class_correct[i] / class_total[i] * 100 for i in range(3)}\n",
    "\n",
    "    return overall_accuracy, class_accuracies\n"
   ]
  },
  {
   "cell_type": "code",
   "execution_count": 27,
   "metadata": {},
   "outputs": [],
   "source": [
    "# Evaluate model\n",
    "overall_accuracy, class_accuracies = evaluate_model(simple_net, testloader)"
   ]
  },
  {
   "cell_type": "code",
   "execution_count": 28,
   "metadata": {},
   "outputs": [
    {
     "name": "stdout",
     "output_type": "stream",
     "text": [
      "Overall Test Accuracy: 69.1%\n",
      "Test Accuracy per Class:\n",
      " - cat: 61.0%\n",
      " - dog: 61.4%\n",
      " - ship: 84.89999999999999%\n"
     ]
    },
    {
     "data": {
      "image/png": "[encoded data removed]",
      "text/plain": [
       "<Figure size 640x480 with 1 Axes>"
      ]
     },
     "metadata": {},
     "output_type": "display_data"
    }
   ],
   "source": [
    "# Print accuracies\n",
    "print(f\"Overall Test Accuracy: {overall_accuracy}%\")\n",
    "print(\"Test Accuracy per Class:\")\n",
    "for class_name in class_accuracies:\n",
    "    print(f\" - {class_name}: {class_accuracies[class_name]}%\")\n",
    "\n",
    "# Plotting accuracies\n",
    "class_names = list(class_accuracies.keys())\n",
    "accuracies = [class_accuracies[class_name] for class_name in class_names]\n",
    "\n",
    "plt.bar(class_names, accuracies, color=['blue', 'green', 'red'])\n",
    "plt.xlabel('Class')\n",
    "plt.ylabel('Accuracy (%)')\n",
    "plt.title('Test Accuracy per Class')\n",
    "plt.ylim([0, 100])\n",
    "for i, v in enumerate(accuracies):\n",
    "    plt.text(i, v + 1, f\"{v:.2f}%\", ha='center', va='bottom')\n",
    "plt.show()"
   ]
  },
  {
   "cell_type": "code",
   "execution_count": 29,
   "metadata": {},
   "outputs": [
    {
     "name": "stdout",
     "output_type": "stream",
     "text": [
      "Best performing class: ship\n"
     ]
    }
   ],
   "source": [
    "# The best performing class\n",
    "best_class = max(class_accuracies, key=class_accuracies.get)\n",
    "print(f\"Best performing class: {best_class}\")"
   ]
  },
  {
   "cell_type": "markdown",
   "metadata": {},
   "source": [
    "#### Reason\n",
    "- Distinctive Features: Ships have more uniform and simpler shapes\n",
    "- Background Consistency: Ship images often feature consistent backgrounds(water, sky), aiding recognition\n",
    "- Lower Intra Class Variation: ships have less variability in appearance\n",
    "- Training Data Quality: Ship in dataset can be clearer and more consistent\n",
    "- Model Suitability: The NN architecture and training can be better at capturing ship features."
   ]
  },
  {
   "cell_type": "code",
   "execution_count": null,
   "metadata": {},
   "outputs": [],
   "source": []
  },
  {
   "cell_type": "code",
   "execution_count": null,
   "metadata": {},
   "outputs": [],
   "source": []
  },
  {
   "cell_type": "code",
   "execution_count": null,
   "metadata": {},
   "outputs": [],
   "source": []
  },
  {
   "cell_type": "code",
   "execution_count": null,
   "metadata": {},
   "outputs": [],
   "source": []
  },
  {
   "cell_type": "code",
   "execution_count": null,
   "metadata": {},
   "outputs": [],
   "source": []
  },
  {
   "cell_type": "code",
   "execution_count": null,
   "metadata": {},
   "outputs": [],
   "source": []
  }
 ],
 "metadata": {
  "kernelspec": {
   "display_name": "Python 3 (ipykernel)",
   "language": "python",
   "name": "python3"
  },
  "language_info": {
   "codemirror_mode": {
    "name": "ipython",
    "version": 3
   },
   "file_extension": ".py",
   "mimetype": "text/x-python",
   "name": "python",
   "nbconvert_exporter": "python",
   "pygments_lexer": "ipython3",
   "version": "3.10.9"
  },
  "latex_metadata": {
   "VARassignment": "Problem Set 4"
  }
 },
 "nbformat": 4,
 "nbformat_minor": 2
}
